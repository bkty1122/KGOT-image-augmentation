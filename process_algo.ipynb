{
 "cells": [
  {
   "cell_type": "code",
   "execution_count": 1,
   "metadata": {},
   "outputs": [
    {
     "name": "stdout",
     "output_type": "stream",
     "text": [
      "Filtered COCO JSON saved to: D:\\KGOT_github\\KGOT-image-augmentation\\src\\example\\filtered_annotations.json\n"
     ]
    }
   ],
   "source": [
    "import json\n",
    "\n",
    "def filter_coco_annotations(input_json_path, output_json_path, image_ids_to_keep):\n",
    "    \"\"\"\n",
    "    Filters COCO annotations and images to keep only specified image IDs.\n",
    "\n",
    "    Args:\n",
    "        input_json_path (str): Path to the input COCO JSON file.\n",
    "        output_json_path (str): Path to save the filtered COCO JSON file.\n",
    "        image_ids_to_keep (list): List of image IDs to retain.\n",
    "    \"\"\"\n",
    "    # Load the original COCO JSON file\n",
    "    with open(input_json_path, 'r') as file:\n",
    "        coco_data = json.load(file)\n",
    "    \n",
    "    # Filter the images based on the specified IDs\n",
    "    filtered_images = [\n",
    "        image for image in coco_data['images'] if image['id'] in image_ids_to_keep\n",
    "    ]\n",
    "\n",
    "    # Get the IDs of the filtered images\n",
    "    filtered_image_ids = {image['id'] for image in filtered_images}\n",
    "\n",
    "    # Filter the annotations based on the filtered image IDs\n",
    "    filtered_annotations = [\n",
    "        annotation for annotation in coco_data.get('annotations', [])\n",
    "        if annotation['image_id'] in filtered_image_ids\n",
    "    ]\n",
    "\n",
    "    # Construct the new filtered COCO JSON structure\n",
    "    filtered_coco_data = {\n",
    "        \"info\": coco_data.get(\"info\", {}),\n",
    "        \"licenses\": coco_data.get(\"licenses\", []),\n",
    "        \"images\": filtered_images,\n",
    "        \"annotations\": filtered_annotations,\n",
    "        \"categories\": coco_data.get(\"categories\", [])  # Retain the same categories\n",
    "    }\n",
    "\n",
    "    # Save the filtered data to a new JSON file\n",
    "    with open(output_json_path, 'w') as output_file:\n",
    "        json.dump(filtered_coco_data, output_file, indent=4)\n",
    "\n",
    "    print(f\"Filtered COCO JSON saved to: {output_json_path}\")\n",
    "\n",
    "\n",
    "# Define paths\n",
    "input_json_path = r\"D:\\KGOT_github\\KGOT-image-augmentation\\src\\example\\all_annotations_1024.json\"\n",
    "output_json_path = r\"D:\\KGOT_github\\KGOT-image-augmentation\\src\\example\\filtered_annotations.json\"\n",
    "\n",
    "# Specify the image IDs to keep\n",
    "image_ids_to_keep = [1, 239]\n",
    "\n",
    "# Call the function to filter the COCO JSON\n",
    "filter_coco_annotations(input_json_path, output_json_path, image_ids_to_keep)"
   ]
  }
 ],
 "metadata": {
  "kernelspec": {
   "display_name": "Python 3",
   "language": "python",
   "name": "python3"
  },
  "language_info": {
   "codemirror_mode": {
    "name": "ipython",
    "version": 3
   },
   "file_extension": ".py",
   "mimetype": "text/x-python",
   "name": "python",
   "nbconvert_exporter": "python",
   "pygments_lexer": "ipython3",
   "version": "3.11.9"
  }
 },
 "nbformat": 4,
 "nbformat_minor": 2
}
