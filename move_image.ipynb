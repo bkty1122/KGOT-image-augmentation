{
 "cells": [
  {
   "cell_type": "code",
   "execution_count": null,
   "metadata": {},
   "outputs": [],
   "source": [
    "import os\n",
    "import pandas as pd\n",
    "import shutil\n",
    "\n",
    "# Define file paths\n",
    "csv_file = r\"D:\\KGOT_github\\KGOT-image-augmentation\\data\\kgot\\data_class.csv\"\n",
    "source_folder = r\"D:\\Personal_Project\\kgot_training_script\\kgot_remote_server_training\\data\\kgot\\images\"\n",
    "destination_folder = r\"D:\\KGOT_github\\KGOT-image-augmentation\\data\\kgot\\images\"\n",
    "\n",
    "# Ensure the destination folder exists\n",
    "os.makedirs(destination_folder, exist_ok=True)\n",
    "\n",
    "# Read the CSV file\n",
    "df = pd.read_csv(csv_file)\n",
    "\n",
    "# Extract the image names from the CSV\n",
    "image_names = df['image_path'].tolist()\n",
    "\n",
    "# Copy images from source to destination if they exist in the source folder\n",
    "for image_name in image_names:\n",
    "    source_image_path = os.path.join(source_folder, image_name)\n",
    "    destination_image_path = os.path.join(destination_folder, image_name)\n",
    "    \n",
    "    # Check if the image exists in the source folder\n",
    "    if os.path.exists(source_image_path):\n",
    "        # Copy the image to the destination folder\n",
    "        shutil.copy(source_image_path, destination_image_path)\n",
    "        print(f\"Copied: {image_name}\")\n",
    "    else:\n",
    "        print(f\"Image not found: {image_name}\")"
   ]
  }
 ],
 "metadata": {
  "kernelspec": {
   "display_name": "Python 3",
   "language": "python",
   "name": "python3"
  },
  "language_info": {
   "name": "python",
   "version": "3.11.9"
  }
 },
 "nbformat": 4,
 "nbformat_minor": 2
}
